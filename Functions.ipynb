{
  "nbformat": 4,
  "nbformat_minor": 0,
  "metadata": {
    "colab": {
      "provenance": []
    },
    "kernelspec": {
      "name": "python3",
      "display_name": "Python 3"
    },
    "language_info": {
      "name": "python"
    }
  },
  "cells": [
    {
      "cell_type": "markdown",
      "source": [
        "#Functions"
      ],
      "metadata": {
        "id": "UvvC2nsZ6brs"
      }
    },
    {
      "cell_type": "markdown",
      "source": [
        "1. What is the difference between a function and a method in Python?\n",
        "> In Python, a function is a reusable block of code defined using the def keyword that can be called independently, while a method is a function that is associated with an object and is called using dot notation. Functions are generally used in a global context, whereas methods are defined inside classes and operate on instances of those classes, using self to access the object's data."
      ],
      "metadata": {
        "id": "MY_Bpl-O6fdg"
      }
    },
    {
      "cell_type": "code",
      "execution_count": 4,
      "metadata": {
        "colab": {
          "base_uri": "https://localhost:8080/"
        },
        "id": "9MmIoAp_6U7C",
        "outputId": "9f85ef37-51c0-40d4-f41a-d68d1394b6cc"
      },
      "outputs": [
        {
          "output_type": "stream",
          "name": "stdout",
          "text": [
            "Hello, Ayush!\n",
            "AYUSH\n"
          ]
        }
      ],
      "source": [
        "# function\n",
        "def greet(name):\n",
        "    return f\"Hello, {name}!\"\n",
        "print(greet(\"Ayush\"))\n",
        "\n",
        "# method\n",
        "name = \"Ayush\"\n",
        "print(name.upper())\n"
      ]
    },
    {
      "cell_type": "markdown",
      "source": [
        "2. Explain the concept of function arguments and parameters in Python.\n",
        "> In Python, parameters are the variables listed in a function's definition, while arguments are the actual values passed to the function when it is called. Parameters act as placeholders for the inputs a function expects, and arguments are the real data that fill those placeholders during execution."
      ],
      "metadata": {
        "id": "QaHjK-rD9BW5"
      }
    },
    {
      "cell_type": "code",
      "source": [
        "# function call with argument\n",
        "greet(\"Ayush\")\n",
        "\n",
        "# function call with paramater\n",
        "def greet(name):\n",
        "    print(\"Hello,\", name)\n"
      ],
      "metadata": {
        "colab": {
          "base_uri": "https://localhost:8080/"
        },
        "id": "NJdxxr708mYj",
        "outputId": "06713fe4-aa82-4b95-cccf-88181784a1c9"
      },
      "execution_count": 6,
      "outputs": [
        {
          "output_type": "stream",
          "name": "stdout",
          "text": [
            "Hello, Ayush\n"
          ]
        }
      ]
    },
    {
      "cell_type": "markdown",
      "source": [
        "3. What are the different ways to define and call a function in Python?"
      ],
      "metadata": {
        "id": "ATO3z7pE9uci"
      }
    },
    {
      "cell_type": "code",
      "source": [
        "# 1.Function with parameters\n",
        "def greet(name):\n",
        "    print(\"Hello,\", name)\n",
        "greet(\"Ayush\")\n",
        "\n",
        "# 2.Functions with default parameters\n",
        "def greet(name=\"Friend\"):\n",
        "    print(\"Hello,\", name)\n",
        "greet()\n",
        "greet(\"Ayush\")\n",
        "\n",
        "# 3.Function with return value\n",
        "def add(a, b):\n",
        "    return a + b\n",
        "result = add(3, 4)\n",
        "print(result)\n",
        "\n",
        "# 4.Lambda Function\n",
        "square = lambda x: x * x\n",
        "print(square(5))\n",
        "\n",
        "# 5.Calling a function with another function\n",
        "def greet(name):\n",
        "    return \"Hello \" + name\n",
        "\n",
        "def welcome():\n",
        "    print(greet(\"Ayush\"))\n",
        "\n",
        "welcome()"
      ],
      "metadata": {
        "colab": {
          "base_uri": "https://localhost:8080/"
        },
        "id": "QkIhsHEx9pP3",
        "outputId": "4cd87c23-6241-4118-af98-70b8c3541e97"
      },
      "execution_count": 14,
      "outputs": [
        {
          "output_type": "stream",
          "name": "stdout",
          "text": [
            "Hello, Ayush\n",
            "Hello, Friend\n",
            "Hello, Ayush\n",
            "7\n",
            "25\n",
            "Hello Ayush\n"
          ]
        }
      ]
    },
    {
      "cell_type": "markdown",
      "source": [
        "4.  What is the purpose of the `return` statement in a Python function?\n",
        "> The purpose of the return statement in a Python function is to send a value back to the caller of the function. It ends the function's execution and provides the result that can be stored in a variable, used in an expression, or printed. Without a return statement, a function returns None by default. This makes return essential when you want your function to produce an output."
      ],
      "metadata": {
        "id": "Kqo-qZuSC2Wx"
      }
    },
    {
      "cell_type": "code",
      "source": [
        "def add(a, b):\n",
        "    return a + b\n",
        "\n",
        "result = add(3, 5)\n",
        "print(result)\n"
      ],
      "metadata": {
        "colab": {
          "base_uri": "https://localhost:8080/"
        },
        "id": "t67F9EDbBs0w",
        "outputId": "71ea95b8-8918-42b4-a197-fa03bbd70c23"
      },
      "execution_count": 17,
      "outputs": [
        {
          "output_type": "stream",
          "name": "stdout",
          "text": [
            "8\n"
          ]
        }
      ]
    },
    {
      "cell_type": "markdown",
      "source": [
        "5.  What are iterators in Python and how do they differ from iterables?\n",
        "> In Python, an iterable is any object that can be looped over, such as a list, tuple, string, or dictionary, and it implements the __iter__() method. An iterator is an object that produces values one at a time using the __next__() method and remembers its position during iteration. While all iterators are iterables (because they implement __iter__()), not all iterables are iterators—they must be converted using the iter() function. The key difference is that iterables can be looped multiple times, but iterators are consumed as they are used."
      ],
      "metadata": {
        "id": "Dp1CKlu2DIBq"
      }
    },
    {
      "cell_type": "code",
      "source": [
        "# Iterable\n",
        "my_list = [1, 2, 3]\n",
        "\n",
        "# Convert to iterator\n",
        "my_iter = iter(my_list)\n",
        "\n",
        "print(next(my_iter))\n",
        "print(next(my_iter))\n",
        "print(next(my_iter))\n"
      ],
      "metadata": {
        "colab": {
          "base_uri": "https://localhost:8080/"
        },
        "id": "boe8Dp68DG8z",
        "outputId": "17e2de85-c5c0-41c8-ef0f-4cd70a715e11"
      },
      "execution_count": 18,
      "outputs": [
        {
          "output_type": "stream",
          "name": "stdout",
          "text": [
            "1\n",
            "2\n",
            "3\n"
          ]
        }
      ]
    },
    {
      "cell_type": "markdown",
      "source": [
        "6. Explain the concept of generators in Python and how they are defined.\n",
        "> In Python, generators are a special type of iterator that allow you to generate values one at a time using the yield keyword instead of return. They are defined like regular functions but use yield to produce a sequence of results lazily—meaning they generate each value only when needed, which is memory-efficient. Once a generator yields a value, it pauses its state and resumes from there on the next call.\n"
      ],
      "metadata": {
        "id": "B0xcRcuJDr-Y"
      }
    },
    {
      "cell_type": "code",
      "source": [
        "def count_up_to(n):\n",
        "    i = 1\n",
        "    while i <= n:\n",
        "        yield i\n",
        "        i += 1\n",
        "counter = count_up_to(3)\n",
        "print(next(counter))\n",
        "print(next(counter))\n",
        "print(next(counter))\n"
      ],
      "metadata": {
        "colab": {
          "base_uri": "https://localhost:8080/"
        },
        "id": "XFkr4gngDibC",
        "outputId": "b7d7f21f-3f95-4f6a-8e25-fc60dfe171ec"
      },
      "execution_count": 19,
      "outputs": [
        {
          "output_type": "stream",
          "name": "stdout",
          "text": [
            "1\n",
            "2\n",
            "3\n"
          ]
        }
      ]
    },
    {
      "cell_type": "markdown",
      "source": [
        "7. What are the advantages of using generators over regular functions?\n",
        "> Generators in Python offer several advantages over regular functions, especially when dealing with large datasets or streams. Unlike functions that return all values at once and store them in memory, generators use the yield keyword to produce one value at a time, making them memory-efficient and suitable for lazy evaluation. They maintain their internal state between calls, enabling efficient iteration without the overhead of creating and storing large data structures. This results in cleaner, more scalable, and often faster code for scenarios where not all values are needed at once or where data is produced on the fly."
      ],
      "metadata": {
        "id": "pXERf2bxEEhV"
      }
    },
    {
      "cell_type": "markdown",
      "source": [
        "8. What is a lambda function in Python and when is it typically used?\n",
        "> ChatGPT said:\n",
        "A lambda function in Python is a small, anonymous function defined using the lambda keyword instead of def. It can have any number of arguments but only a single expression, which is returned automatically. Lambda functions are typically used for short, throwaway functions where defining a full function would be unnecessary—such as in functional programming tools like map(), filter(), and sorted() with custom keys."
      ],
      "metadata": {
        "id": "bzyaQyJvEWnm"
      }
    },
    {
      "cell_type": "code",
      "source": [
        "square = lambda x: x * x\n",
        "print(square(5))"
      ],
      "metadata": {
        "colab": {
          "base_uri": "https://localhost:8080/"
        },
        "id": "vw4BcCbSEDeu",
        "outputId": "0d11f4bb-5ab0-4f4b-84e9-624d04602e78"
      },
      "execution_count": 20,
      "outputs": [
        {
          "output_type": "stream",
          "name": "stdout",
          "text": [
            "25\n"
          ]
        }
      ]
    },
    {
      "cell_type": "markdown",
      "source": [
        "9. Explain the purpose and usage of the `map()` function in Python.\n",
        ">The map() function in Python is used to apply a function to each item of an iterable (like a list, tuple, or string) and return a new iterator with the results. It takes two arguments: the function to apply and the iterable to process. The result is a map object, which can be converted to a list or other iterable type. map() is commonly used for transforming data, especially when you want to apply a function to every element in a sequence without writing an explicit loop.\n",
        "\n"
      ],
      "metadata": {
        "id": "pgi8UgjvEn_v"
      }
    },
    {
      "cell_type": "code",
      "source": [
        "numbers = [1, 2, 3, 4]\n",
        "squares = map(lambda x: x * x, numbers)\n",
        "print(list(squares))"
      ],
      "metadata": {
        "colab": {
          "base_uri": "https://localhost:8080/"
        },
        "id": "lFBxLRbbEnL2",
        "outputId": "17717701-6523-48ee-a0d4-7b7538988588"
      },
      "execution_count": 21,
      "outputs": [
        {
          "output_type": "stream",
          "name": "stdout",
          "text": [
            "[1, 4, 9, 16]\n"
          ]
        }
      ]
    },
    {
      "cell_type": "markdown",
      "source": [
        "10.  What is the difference between `map()`, `reduce()`, and `filter()` functions in Python?\n",
        ">"
      ],
      "metadata": {
        "id": "VDfAbNLbFI2o"
      }
    },
    {
      "cell_type": "markdown",
      "source": [
        " map() applies a function to each item in an iterable and returns a new iterator with the results.\n",
        "\n",
        " filter() applies a function that returns True or False to each item, and only items where the function returns True are kept.\n",
        "\n",
        "\n",
        " reduce()  applies a function cumulatively to the items of an iterable, reducing it to a single value.\n",
        "from functools import reduce\n"
      ],
      "metadata": {
        "id": "9Slb4JAqH3wT"
      }
    },
    {
      "cell_type": "code",
      "source": [
        "numbers = [1, 2, 3, 4]\n",
        "squares = list(map(lambda x: x * x, numbers))\n",
        "print(squares)  # Output: [1, 4, 9, 16]\n",
        "\n",
        "numbers = [1, 2, 3, 4, 5, 6]\n",
        "evens = list(filter(lambda x: x % 2 == 0, numbers))\n",
        "print(evens)  # Output: [2, 4, 6]\n",
        "\n",
        "from functools import reduce\n",
        "\n",
        "numbers = [1, 2, 3, 4]\n",
        "total = reduce(lambda x, y: x + y, numbers)\n",
        "print(total)  # Output: 10\n"
      ],
      "metadata": {
        "colab": {
          "base_uri": "https://localhost:8080/"
        },
        "id": "_qa4XA5sH5rV",
        "outputId": "52b9bd88-d351-4ba2-b27a-cbd5a3fead18"
      },
      "execution_count": 31,
      "outputs": [
        {
          "output_type": "stream",
          "name": "stdout",
          "text": [
            "[1, 4, 9, 16]\n",
            "[2, 4, 6]\n",
            "10\n"
          ]
        }
      ]
    },
    {
      "cell_type": "code",
      "source": [
        "# 1. Write a Python function that takes a list of numbers as input and returns the sum of all even numbers in\n",
        "# the list.\n",
        "def sum_even_numbers(numbers):\n",
        "    total = 0\n",
        "    for num in numbers:\n",
        "        if num % 2 == 0:\n",
        "            total += num\n",
        "    return total\n",
        "my_list = [10, 15, 22, 33, 40]\n",
        "result = sum_even_numbers(my_list)\n",
        "print(\"Sum of even numbers:\", result)\n"
      ],
      "metadata": {
        "colab": {
          "base_uri": "https://localhost:8080/"
        },
        "id": "kwMKLqcVIB6g",
        "outputId": "a959a9ce-844e-4d10-9745-08a4a102853f"
      },
      "execution_count": 34,
      "outputs": [
        {
          "output_type": "stream",
          "name": "stdout",
          "text": [
            "Sum of even numbers: 72\n"
          ]
        }
      ]
    },
    {
      "cell_type": "code",
      "source": [
        "# 2.Create a Python function that accepts a string and returns the reverse of that string.\n",
        "def reverse_string(s):\n",
        "    return s[::-1]\n",
        "text = \"hello\"\n",
        "reversed_text = reverse_string(text)\n",
        "print(\"Reversed string:\", reversed_text)\n"
      ],
      "metadata": {
        "colab": {
          "base_uri": "https://localhost:8080/"
        },
        "id": "NV-mEK1FIKon",
        "outputId": "97f3d910-df97-452b-9850-2ba04689bcf6"
      },
      "execution_count": 35,
      "outputs": [
        {
          "output_type": "stream",
          "name": "stdout",
          "text": [
            "Reversed string: olleh\n"
          ]
        }
      ]
    },
    {
      "cell_type": "code",
      "source": [
        "# 3.def square_list(numbers):\n",
        "def square_list(numbers):\n",
        "    return [num ** 2 for num in numbers]\n",
        "nums = [1, 2, 3, 4, 5]\n",
        "squared = square_list(nums)\n",
        "print(\"Squared list:\", squared)"
      ],
      "metadata": {
        "colab": {
          "base_uri": "https://localhost:8080/"
        },
        "id": "dbzdHJusIzH6",
        "outputId": "7e3ce75b-471a-45ea-8400-8f57ec0d5b51"
      },
      "execution_count": 36,
      "outputs": [
        {
          "output_type": "stream",
          "name": "stdout",
          "text": [
            "Squared list: [1, 4, 9, 16, 25]\n"
          ]
        }
      ]
    },
    {
      "cell_type": "code",
      "source": [
        "# 4.Write a Python function that checks if a given number is prime or not from 1 to 200.\n",
        "def is_prime(n):\n",
        "    if n < 2 or n > 200:\n",
        "        return False\n",
        "    for i in range(2, int(n**0.5) + 1):\n",
        "        if n % i == 0:\n",
        "            return False\n",
        "    return True\n",
        "for i in range(1, 201):\n",
        "    if is_prime(i):\n",
        "        print(i, \"is prime\")\n"
      ],
      "metadata": {
        "colab": {
          "base_uri": "https://localhost:8080/"
        },
        "id": "lWboaya3JEh5",
        "outputId": "0d996a39-33c4-44c6-9872-ce46c4355231"
      },
      "execution_count": 37,
      "outputs": [
        {
          "output_type": "stream",
          "name": "stdout",
          "text": [
            "2 is prime\n",
            "3 is prime\n",
            "5 is prime\n",
            "7 is prime\n",
            "11 is prime\n",
            "13 is prime\n",
            "17 is prime\n",
            "19 is prime\n",
            "23 is prime\n",
            "29 is prime\n",
            "31 is prime\n",
            "37 is prime\n",
            "41 is prime\n",
            "43 is prime\n",
            "47 is prime\n",
            "53 is prime\n",
            "59 is prime\n",
            "61 is prime\n",
            "67 is prime\n",
            "71 is prime\n",
            "73 is prime\n",
            "79 is prime\n",
            "83 is prime\n",
            "89 is prime\n",
            "97 is prime\n",
            "101 is prime\n",
            "103 is prime\n",
            "107 is prime\n",
            "109 is prime\n",
            "113 is prime\n",
            "127 is prime\n",
            "131 is prime\n",
            "137 is prime\n",
            "139 is prime\n",
            "149 is prime\n",
            "151 is prime\n",
            "157 is prime\n",
            "163 is prime\n",
            "167 is prime\n",
            "173 is prime\n",
            "179 is prime\n",
            "181 is prime\n",
            "191 is prime\n",
            "193 is prime\n",
            "197 is prime\n",
            "199 is prime\n"
          ]
        }
      ]
    },
    {
      "cell_type": "code",
      "source": [
        "# 5. Create an iterator class in Python that generates the Fibonacci sequence up to a specified number of\n",
        "# terms.\n",
        "class FibonacciIterator:\n",
        "    def __init__(self, max_terms):\n",
        "        self.max_terms = max_terms\n",
        "        self.count = 0\n",
        "        self.a, self.b = 0, 1\n",
        "\n",
        "    def __iter__(self):\n",
        "        return self\n",
        "\n",
        "    def __next__(self):\n",
        "        if self.count >= self.max_terms:\n",
        "            raise StopIteration\n",
        "        if self.count == 0:\n",
        "            self.count += 1\n",
        "            return 0\n",
        "        elif self.count == 1:\n",
        "            self.count += 1\n",
        "            return 1\n",
        "        else:\n",
        "            self.count += 1\n",
        "            self.a, self.b = self.b, self.a + self.b\n",
        "            return self.a\n",
        "fib = FibonacciIterator(10)\n",
        "\n",
        "for num in fib:\n",
        "    print(num, end=' ')"
      ],
      "metadata": {
        "colab": {
          "base_uri": "https://localhost:8080/"
        },
        "id": "BbjiuJa_JZzL",
        "outputId": "d3383ff8-4acc-49ed-a523-8ddfa80dc585"
      },
      "execution_count": 38,
      "outputs": [
        {
          "output_type": "stream",
          "name": "stdout",
          "text": [
            "0 1 1 1 2 3 5 8 13 21 "
          ]
        }
      ]
    },
    {
      "cell_type": "code",
      "source": [
        "# 6. Write a generator function in Python that yields the powers of 2 up to a given exponent.\n",
        "def powers_of_two(n):\n",
        "    for i in range(n + 1):\n",
        "        yield 2 ** i\n",
        "for power in powers_of_two(5):\n",
        "    print(power, end=' ')"
      ],
      "metadata": {
        "colab": {
          "base_uri": "https://localhost:8080/"
        },
        "id": "yqhrKNP5JoUo",
        "outputId": "85965ed1-64f0-4d86-b727-d9f1004471b0"
      },
      "execution_count": 39,
      "outputs": [
        {
          "output_type": "stream",
          "name": "stdout",
          "text": [
            "1 2 4 8 16 32 "
          ]
        }
      ]
    },
    {
      "cell_type": "code",
      "source": [
        "# 8. Use a lambda function in Python to sort a list of tuples based on the second element of each tuple.\n",
        "data = [(1, 3), (2, 1), (4, 2), (5, 0)]\n",
        "sorted_data = sorted(data, key=lambda x: x[1])\n",
        "print(sorted_data)\n",
        "[(5, 0), (2, 1), (4, 2), (1, 3)]\n"
      ],
      "metadata": {
        "colab": {
          "base_uri": "https://localhost:8080/"
        },
        "id": "g6j01MYQKFmU",
        "outputId": "11303c4a-6dc8-4599-e0d6-555301bc5aae"
      },
      "execution_count": 44,
      "outputs": [
        {
          "output_type": "stream",
          "name": "stdout",
          "text": [
            "[(5, 0), (2, 1), (4, 2), (1, 3)]\n"
          ]
        },
        {
          "output_type": "execute_result",
          "data": {
            "text/plain": [
              "[(5, 0), (2, 1), (4, 2), (1, 3)]"
            ]
          },
          "metadata": {},
          "execution_count": 44
        }
      ]
    },
    {
      "cell_type": "code",
      "source": [
        "# 9. Write a Python program that uses `map()` to convert a list of temperatures from Celsius to Fahrenheit.\n",
        "\n",
        "def c_to_f(celsius):\n",
        "    return (celsius * 9/5) + 32\n",
        "celsius_temps = [0, 20, 37, 100]\n",
        "fahrenheit_temps = list(map(c_to_f, celsius_temps))\n",
        "\n",
        "print(\"Fahrenheit temperatures:\", fahrenheit_temps)\n",
        "fahrenheit_temps = list(map(lambda c: (c * 9/5) + 32, celsius_temps))"
      ],
      "metadata": {
        "colab": {
          "base_uri": "https://localhost:8080/"
        },
        "id": "YsAH6cqQK8Bu",
        "outputId": "9a54a151-6431-4cd9-fb8c-0cc640eeb7f0"
      },
      "execution_count": 46,
      "outputs": [
        {
          "output_type": "stream",
          "name": "stdout",
          "text": [
            "Fahrenheit temperatures: [32.0, 68.0, 98.6, 212.0]\n"
          ]
        }
      ]
    },
    {
      "cell_type": "code",
      "source": [
        "# 10. Create a Python program that uses `filter()` to remove all the vowels from a given string.\n",
        "def remove_vowels(text):\n",
        "    vowels = 'aeiouAEIOU'\n",
        "    return ''.join(filter(lambda ch: ch not in vowels, text))\n",
        "input_str = \"Hello, Python is awesome!\"\n",
        "result = remove_vowels(input_str)\n",
        "print(\"String without vowels:\", result)"
      ],
      "metadata": {
        "colab": {
          "base_uri": "https://localhost:8080/"
        },
        "id": "Xgqo8TGwLYrK",
        "outputId": "bd2dbc6d-5874-4762-932c-b19b10389675"
      },
      "execution_count": 48,
      "outputs": [
        {
          "output_type": "stream",
          "name": "stdout",
          "text": [
            "String without vowels: Hll, Pythn s wsm!\n"
          ]
        }
      ]
    },
    {
      "cell_type": "code",
      "source": [
        "# 11\n",
        "orders = [\n",
        "    [34587, \"Learning Python, Mark Lutz\", 4, 40.95],\n",
        "    [98762, \"Programming Python, Mark Lutz\", 5, 56.80],\n",
        "    [77226, \"Head First Python, Paul Barry\", 3, 32.95],\n",
        "    [88112, \"Einführung in Python3, Bernd Klein\", 3, 24.99]\n",
        "]\n",
        "final_result = list(map(\n",
        "    lambda order: (order[0], order[2]*order[3] + 10 if order[2]*order[3] < 100 else order[2]*order[3]),\n",
        "    orders\n",
        "))\n",
        "\n",
        "print(final_result)\n"
      ],
      "metadata": {
        "colab": {
          "base_uri": "https://localhost:8080/"
        },
        "id": "XGxEt1LAL0TD",
        "outputId": "5c2ac35e-a7b1-4972-d82f-114328845659"
      },
      "execution_count": 50,
      "outputs": [
        {
          "output_type": "stream",
          "name": "stdout",
          "text": [
            "[(34587, 163.8), (98762, 284.0), (77226, 108.85000000000001), (88112, 84.97)]\n"
          ]
        }
      ]
    },
    {
      "cell_type": "code",
      "source": [],
      "metadata": {
        "id": "nq89nAhNMeB3"
      },
      "execution_count": null,
      "outputs": []
    }
  ]
}